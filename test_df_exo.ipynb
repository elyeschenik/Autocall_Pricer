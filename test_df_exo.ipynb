{
 "cells": [
  {
   "cell_type": "code",
   "execution_count": 1,
   "metadata": {},
   "outputs": [],
   "source": [
    "import numpy as np\n",
    "import matplotlib.pyplot as plt\n",
    "import pandas as pd\n",
    "from scipy.stats import norm\n",
    "from scipy import optimize\n",
    "from calendar import *\n",
    "from datetime import *\n",
    "\n",
    "df = pd.read_excel(\"Exam Data.xlsx\", index_col = 0, sheet_name = \"Histo underlying\")\n",
    "STOXX_DEC = df.iloc[1:,0]\n",
    "STOXX_DEC.index.name = \"Date\"\n",
    "\n",
    "STOXX = df.iloc[1:,3].dropna()\n",
    "STOXX.index.name = \"Date\""
   ]
  },
  {
   "cell_type": "code",
   "execution_count": 2,
   "metadata": {},
   "outputs": [],
   "source": [
    "df_call_put = pd.read_excel(\"Exam Data.xlsx\", index_col = 1, sheet_name = \"Call-Put Price\").drop(\"CALL\", axis = 1).dropna()\n",
    "df_call = df_call_put.iloc[:9]\n",
    "df_put = df_call_put.iloc[10:]"
   ]
  },
  {
   "cell_type": "code",
   "execution_count": 112,
   "metadata": {},
   "outputs": [
    {
     "data": {
      "text/plain": [
       "0.23086809544365078"
      ]
     },
     "execution_count": 112,
     "metadata": {},
     "output_type": "execute_result"
    }
   ],
   "source": [
    "np.sqrt(252) * STOXX.pct_change(1).std()"
   ]
  },
  {
   "cell_type": "code",
   "execution_count": 7,
   "metadata": {},
   "outputs": [],
   "source": [
    "def BSClosedForm(S_0, K, r, sigma, T, isCall):\n",
    "        d1 = (np.log(S_0/K) + (r + 0.5 * sigma**2)*T)/(sigma * np.sqrt(T))\n",
    "        d2 = d1 - sigma * np.sqrt(T)\n",
    "        if isCall:\n",
    "            return S_0 * norm.cdf(d1) - np.exp(-r * T) * K * norm.cdf(d2)\n",
    "        else:\n",
    "            return -S_0 * norm.cdf(-d1) + np.exp(-r * T) * K * norm.cdf(-d2)"
   ]
  },
  {
   "cell_type": "code",
   "execution_count": 26,
   "metadata": {},
   "outputs": [],
   "source": [
    "K, end_date = 3400, pd.datetime(2021, 6, 18)\n",
    "S_0 = 3956.77\n",
    "curr_date = pd.datetime(2021, 4, 7)\n",
    "r = 0.01\n",
    "isCall = True\n",
    "T = (end_date - curr_date).days/252\n",
    "\n",
    "def IV(S_0, curr_date, r, K, end_date, isCall):\n",
    "    T = (end_date - curr_date).days/252\n",
    "    if isCall:\n",
    "        p = df_call.loc[K,end_date] * S_0\n",
    "    else:\n",
    "        p = df_put.loc[K,end_date] * S_0\n",
    "    a, b = 0.00000000001, 1\n",
    "    f = lambda x: BSClosedForm(S_0, K, r, x, T, isCall) - p\n",
    "    sol = optimize.brentq(f, a, b)\n",
    "    return sol"
   ]
  },
  {
   "cell_type": "code",
   "execution_count": 31,
   "metadata": {},
   "outputs": [
    {
     "name": "stdout",
     "output_type": "stream",
     "text": [
      "531.0664785353534\n"
     ]
    },
    {
     "data": {
      "text/plain": [
       "566.5799143202771"
      ]
     },
     "execution_count": 31,
     "metadata": {},
     "output_type": "execute_result"
    }
   ],
   "source": [
    "print(df_call.loc[K,end_date] * S_0)\n",
    "BSClosedForm(S_0, K, r, 0.1, T, isCall)"
   ]
  },
  {
   "cell_type": "code",
   "execution_count": 32,
   "metadata": {},
   "outputs": [
    {
     "data": {
      "text/html": [
       "<div>\n",
       "<style scoped>\n",
       "    .dataframe tbody tr th:only-of-type {\n",
       "        vertical-align: middle;\n",
       "    }\n",
       "\n",
       "    .dataframe tbody tr th {\n",
       "        vertical-align: top;\n",
       "    }\n",
       "\n",
       "    .dataframe thead th {\n",
       "        text-align: right;\n",
       "    }\n",
       "</style>\n",
       "<table border=\"1\" class=\"dataframe\">\n",
       "  <thead>\n",
       "    <tr style=\"text-align: right;\">\n",
       "      <th></th>\n",
       "      <th>2021-06-18 00:00:00</th>\n",
       "      <th>2021-12-17 00:00:00</th>\n",
       "      <th>2022-06-17 00:00:00</th>\n",
       "      <th>2022-12-16 00:00:00</th>\n",
       "      <th>2023-12-15 00:00:00</th>\n",
       "      <th>2024-12-20 00:00:00</th>\n",
       "      <th>2025-12-19 00:00:00</th>\n",
       "      <th>2026-12-18 00:00:00</th>\n",
       "    </tr>\n",
       "    <tr>\n",
       "      <th>K/T</th>\n",
       "      <th></th>\n",
       "      <th></th>\n",
       "      <th></th>\n",
       "      <th></th>\n",
       "      <th></th>\n",
       "      <th></th>\n",
       "      <th></th>\n",
       "      <th></th>\n",
       "    </tr>\n",
       "  </thead>\n",
       "  <tbody>\n",
       "    <tr>\n",
       "      <th>4200</th>\n",
       "      <td>0.00217172</td>\n",
       "      <td>0.0171591</td>\n",
       "      <td>0.0273359</td>\n",
       "      <td>0.0385354</td>\n",
       "      <td>0.0509722</td>\n",
       "      <td>0.06125</td>\n",
       "      <td>0.071</td>\n",
       "      <td>0.0815</td>\n",
       "    </tr>\n",
       "    <tr>\n",
       "      <th>4000</th>\n",
       "      <td>0.0132702</td>\n",
       "      <td>0.0370328</td>\n",
       "      <td>0.0463384</td>\n",
       "      <td>0.0580429</td>\n",
       "      <td>0.0691919</td>\n",
       "      <td>0.0784217</td>\n",
       "      <td>0.088</td>\n",
       "      <td>0.094</td>\n",
       "    </tr>\n",
       "    <tr>\n",
       "      <th>3800</th>\n",
       "      <td>0.0442045</td>\n",
       "      <td>0.0660985</td>\n",
       "      <td>0.0725758</td>\n",
       "      <td>0.0834091</td>\n",
       "      <td>0.0917551</td>\n",
       "      <td>0.0992298</td>\n",
       "      <td>0.102</td>\n",
       "      <td>0.105</td>\n",
       "    </tr>\n",
       "    <tr>\n",
       "      <th>3600</th>\n",
       "      <td>0.0869444</td>\n",
       "      <td>0.102374</td>\n",
       "      <td>0.104747</td>\n",
       "      <td>0.113737</td>\n",
       "      <td>0.118712</td>\n",
       "      <td>0.124533</td>\n",
       "      <td>0.129</td>\n",
       "      <td>0.131</td>\n",
       "    </tr>\n",
       "    <tr>\n",
       "      <th>3400</th>\n",
       "      <td>0.134217</td>\n",
       "      <td>0.143434</td>\n",
       "      <td>0.141705</td>\n",
       "      <td>0.148308</td>\n",
       "      <td>0.150492</td>\n",
       "      <td>0.152891</td>\n",
       "      <td>0.155</td>\n",
       "      <td>0.157</td>\n",
       "    </tr>\n",
       "    <tr>\n",
       "      <th>3200</th>\n",
       "      <td>0.183283</td>\n",
       "      <td>0.187715</td>\n",
       "      <td>0.182462</td>\n",
       "      <td>0.187134</td>\n",
       "      <td>0.185139</td>\n",
       "      <td>0.184583</td>\n",
       "      <td>0.1836</td>\n",
       "      <td>0.1826</td>\n",
       "    </tr>\n",
       "    <tr>\n",
       "      <th>3000</th>\n",
       "      <td>0.23303</td>\n",
       "      <td>0.233889</td>\n",
       "      <td>0.225316</td>\n",
       "      <td>0.228384</td>\n",
       "      <td>0.221995</td>\n",
       "      <td>0.219432</td>\n",
       "      <td>0.218</td>\n",
       "      <td>0.025</td>\n",
       "    </tr>\n",
       "    <tr>\n",
       "      <th>2800</th>\n",
       "      <td>0.283068</td>\n",
       "      <td>0.281414</td>\n",
       "      <td>0.270404</td>\n",
       "      <td>0.271919</td>\n",
       "      <td>0.27</td>\n",
       "      <td>0.255795</td>\n",
       "      <td>0.253</td>\n",
       "      <td>0.251</td>\n",
       "    </tr>\n",
       "    <tr>\n",
       "      <th>2600</th>\n",
       "      <td>0.325</td>\n",
       "      <td>0.329874</td>\n",
       "      <td>0.315</td>\n",
       "      <td>0.317058</td>\n",
       "      <td>0.315</td>\n",
       "      <td>0.305</td>\n",
       "      <td>0.302</td>\n",
       "      <td>0.3</td>\n",
       "    </tr>\n",
       "  </tbody>\n",
       "</table>\n",
       "</div>"
      ],
      "text/plain": [
       "     2021-06-18 00:00:00 2021-12-17 00:00:00 2022-06-17 00:00:00  \\\n",
       "K/T                                                                \n",
       "4200          0.00217172           0.0171591           0.0273359   \n",
       "4000           0.0132702           0.0370328           0.0463384   \n",
       "3800           0.0442045           0.0660985           0.0725758   \n",
       "3600           0.0869444            0.102374            0.104747   \n",
       "3400            0.134217            0.143434            0.141705   \n",
       "3200            0.183283            0.187715            0.182462   \n",
       "3000             0.23303            0.233889            0.225316   \n",
       "2800            0.283068            0.281414            0.270404   \n",
       "2600               0.325            0.329874               0.315   \n",
       "\n",
       "     2022-12-16 00:00:00 2023-12-15 00:00:00 2024-12-20 00:00:00  \\\n",
       "K/T                                                                \n",
       "4200           0.0385354           0.0509722             0.06125   \n",
       "4000           0.0580429           0.0691919           0.0784217   \n",
       "3800           0.0834091           0.0917551           0.0992298   \n",
       "3600            0.113737            0.118712            0.124533   \n",
       "3400            0.148308            0.150492            0.152891   \n",
       "3200            0.187134            0.185139            0.184583   \n",
       "3000            0.228384            0.221995            0.219432   \n",
       "2800            0.271919                0.27            0.255795   \n",
       "2600            0.317058               0.315               0.305   \n",
       "\n",
       "     2025-12-19 00:00:00 2026-12-18 00:00:00  \n",
       "K/T                                           \n",
       "4200               0.071              0.0815  \n",
       "4000               0.088               0.094  \n",
       "3800               0.102               0.105  \n",
       "3600               0.129               0.131  \n",
       "3400               0.155               0.157  \n",
       "3200              0.1836              0.1826  \n",
       "3000               0.218               0.025  \n",
       "2800               0.253               0.251  \n",
       "2600               0.302                 0.3  "
      ]
     },
     "execution_count": 32,
     "metadata": {},
     "output_type": "execute_result"
    }
   ],
   "source": [
    "df_call"
   ]
  },
  {
   "cell_type": "code",
   "execution_count": 33,
   "metadata": {},
   "outputs": [],
   "source": [
    "from scipy import interpolate\n",
    "x = np.arange(-5.01, 5.01, 0.25)\n",
    "y = np.arange(-5.01, 5.01, 0.25)\n",
    "xx, yy = np.meshgrid(x, y)\n",
    "z = np.sin(xx**2+yy**2)\n",
    "f = interpolate.interp2d(x, y, z, kind='cubic')"
   ]
  },
  {
   "cell_type": "code",
   "execution_count": 113,
   "metadata": {},
   "outputs": [],
   "source": [
    "K_list = df_call.index.astype('float')\n",
    "T_list = (df_call.columns - datetime(2021,4,7)).days /365\n",
    "TT, KK = np.meshgrid(T_list, K_list)\n",
    "Get_Price = interpolate.interp2d(TT, KK, df_call.values.astype(\"float\"), kind='linear')"
   ]
  },
  {
   "cell_type": "code",
   "execution_count": 119,
   "metadata": {},
   "outputs": [
    {
     "data": {
      "text/plain": [
       "array([0.13544516])"
      ]
     },
     "execution_count": 119,
     "metadata": {},
     "output_type": "execute_result"
    }
   ],
   "source": [
    "Get_Price(3, 3500)"
   ]
  },
  {
   "cell_type": "code",
   "execution_count": 24,
   "metadata": {},
   "outputs": [
    {
     "ename": "ValueError",
     "evalue": "f(a) and f(b) must have different signs",
     "output_type": "error",
     "traceback": [
      "\u001b[1;31m---------------------------------------------------------------------------\u001b[0m",
      "\u001b[1;31mValueError\u001b[0m                                Traceback (most recent call last)",
      "\u001b[1;32m<ipython-input-24-3fba13a6ea44>\u001b[0m in \u001b[0;36m<module>\u001b[1;34m\u001b[0m\n\u001b[1;32m----> 1\u001b[1;33m \u001b[0mIV\u001b[0m\u001b[1;33m(\u001b[0m\u001b[0mS_0\u001b[0m\u001b[1;33m,\u001b[0m \u001b[0mcurr_date\u001b[0m\u001b[1;33m,\u001b[0m \u001b[0mr\u001b[0m\u001b[1;33m,\u001b[0m \u001b[0mK\u001b[0m\u001b[1;33m,\u001b[0m \u001b[0mend_date\u001b[0m\u001b[1;33m,\u001b[0m \u001b[0misCall\u001b[0m\u001b[1;33m)\u001b[0m\u001b[1;33m\u001b[0m\u001b[1;33m\u001b[0m\u001b[0m\n\u001b[0m",
      "\u001b[1;32m<ipython-input-23-913487428bdf>\u001b[0m in \u001b[0;36mIV\u001b[1;34m(S_0, curr_date, r, K, end_date, isCall)\u001b[0m\n\u001b[0;32m     14\u001b[0m     \u001b[0ma\u001b[0m\u001b[1;33m,\u001b[0m \u001b[0mb\u001b[0m \u001b[1;33m=\u001b[0m \u001b[1;36m0.00000000001\u001b[0m\u001b[1;33m,\u001b[0m \u001b[1;36m1\u001b[0m\u001b[1;33m\u001b[0m\u001b[1;33m\u001b[0m\u001b[0m\n\u001b[0;32m     15\u001b[0m     \u001b[0mf\u001b[0m \u001b[1;33m=\u001b[0m \u001b[1;32mlambda\u001b[0m \u001b[0mx\u001b[0m\u001b[1;33m:\u001b[0m \u001b[0mBSClosedForm\u001b[0m\u001b[1;33m(\u001b[0m\u001b[0mS_0\u001b[0m\u001b[1;33m,\u001b[0m \u001b[0mK\u001b[0m\u001b[1;33m,\u001b[0m \u001b[0mr\u001b[0m\u001b[1;33m,\u001b[0m \u001b[0mx\u001b[0m\u001b[1;33m,\u001b[0m \u001b[0mT\u001b[0m\u001b[1;33m,\u001b[0m \u001b[0misCall\u001b[0m\u001b[1;33m)\u001b[0m \u001b[1;33m-\u001b[0m \u001b[0mp\u001b[0m\u001b[1;33m\u001b[0m\u001b[1;33m\u001b[0m\u001b[0m\n\u001b[1;32m---> 16\u001b[1;33m     \u001b[0msol\u001b[0m \u001b[1;33m=\u001b[0m \u001b[0moptimize\u001b[0m\u001b[1;33m.\u001b[0m\u001b[0mbrentq\u001b[0m\u001b[1;33m(\u001b[0m\u001b[0mf\u001b[0m\u001b[1;33m,\u001b[0m \u001b[0ma\u001b[0m\u001b[1;33m,\u001b[0m \u001b[0mb\u001b[0m\u001b[1;33m)\u001b[0m\u001b[1;33m\u001b[0m\u001b[1;33m\u001b[0m\u001b[0m\n\u001b[0m\u001b[0;32m     17\u001b[0m     \u001b[1;32mreturn\u001b[0m \u001b[0msol\u001b[0m\u001b[1;33m\u001b[0m\u001b[1;33m\u001b[0m\u001b[0m\n",
      "\u001b[1;32m~\\AppData\\Roaming\\Python\\Python37\\site-packages\\scipy\\optimize\\zeros.py\u001b[0m in \u001b[0;36mbrentq\u001b[1;34m(f, a, b, args, xtol, rtol, maxiter, full_output, disp)\u001b[0m\n\u001b[0;32m    778\u001b[0m     \u001b[1;32mif\u001b[0m \u001b[0mrtol\u001b[0m \u001b[1;33m<\u001b[0m \u001b[0m_rtol\u001b[0m\u001b[1;33m:\u001b[0m\u001b[1;33m\u001b[0m\u001b[1;33m\u001b[0m\u001b[0m\n\u001b[0;32m    779\u001b[0m         \u001b[1;32mraise\u001b[0m \u001b[0mValueError\u001b[0m\u001b[1;33m(\u001b[0m\u001b[1;34m\"rtol too small (%g < %g)\"\u001b[0m \u001b[1;33m%\u001b[0m \u001b[1;33m(\u001b[0m\u001b[0mrtol\u001b[0m\u001b[1;33m,\u001b[0m \u001b[0m_rtol\u001b[0m\u001b[1;33m)\u001b[0m\u001b[1;33m)\u001b[0m\u001b[1;33m\u001b[0m\u001b[1;33m\u001b[0m\u001b[0m\n\u001b[1;32m--> 780\u001b[1;33m     \u001b[0mr\u001b[0m \u001b[1;33m=\u001b[0m \u001b[0m_zeros\u001b[0m\u001b[1;33m.\u001b[0m\u001b[0m_brentq\u001b[0m\u001b[1;33m(\u001b[0m\u001b[0mf\u001b[0m\u001b[1;33m,\u001b[0m \u001b[0ma\u001b[0m\u001b[1;33m,\u001b[0m \u001b[0mb\u001b[0m\u001b[1;33m,\u001b[0m \u001b[0mxtol\u001b[0m\u001b[1;33m,\u001b[0m \u001b[0mrtol\u001b[0m\u001b[1;33m,\u001b[0m \u001b[0mmaxiter\u001b[0m\u001b[1;33m,\u001b[0m \u001b[0margs\u001b[0m\u001b[1;33m,\u001b[0m \u001b[0mfull_output\u001b[0m\u001b[1;33m,\u001b[0m \u001b[0mdisp\u001b[0m\u001b[1;33m)\u001b[0m\u001b[1;33m\u001b[0m\u001b[1;33m\u001b[0m\u001b[0m\n\u001b[0m\u001b[0;32m    781\u001b[0m     \u001b[1;32mreturn\u001b[0m \u001b[0mresults_c\u001b[0m\u001b[1;33m(\u001b[0m\u001b[0mfull_output\u001b[0m\u001b[1;33m,\u001b[0m \u001b[0mr\u001b[0m\u001b[1;33m)\u001b[0m\u001b[1;33m\u001b[0m\u001b[1;33m\u001b[0m\u001b[0m\n\u001b[0;32m    782\u001b[0m \u001b[1;33m\u001b[0m\u001b[0m\n",
      "\u001b[1;31mValueError\u001b[0m: f(a) and f(b) must have different signs"
     ]
    }
   ],
   "source": [
    "IV(S_0, curr_date, r, K, end_date, isCall)"
   ]
  },
  {
   "cell_type": "code",
   "execution_count": 122,
   "metadata": {},
   "outputs": [
    {
     "data": {
      "text/plain": [
       "array([[ 1.07240828,  1.4344013 , -0.42523351, -0.04618129, -1.06188662,\n",
       "         2.35604344,  0.20182271,  0.59826375, -0.09827306, -0.53155948],\n",
       "       [-0.40351618, -0.59760833,  0.70091187,  0.73541999, -0.12355427,\n",
       "        -1.9843561 ,  0.54348311, -0.14594497,  1.55893018,  0.4020736 ],\n",
       "       [ 0.61051238,  0.02091255,  0.73986058, -0.82087086, -1.77118756,\n",
       "         0.60170873, -0.92964157,  2.47034793, -1.82209004, -1.11200278],\n",
       "       [ 2.00320846,  0.99597457,  0.37160758, -0.02512537, -0.36800559,\n",
       "         0.47913151, -1.74626871, -0.28643363, -2.63602068, -0.90828621],\n",
       "       [ 0.8944287 , -0.89534267, -1.9183885 , -0.79122377, -1.84503495,\n",
       "         1.06950978, -0.04295094,  0.85067607,  0.51325397,  1.13286252]])"
      ]
     },
     "execution_count": 122,
     "metadata": {},
     "output_type": "execute_result"
    }
   ],
   "source": [
    "S = np.zeros((100, 1250))\n",
    "S[:,0]\n",
    "for i in range(1, len(all_dates)):\n",
    "    # underlying dynamics\n",
    "    t = self.all_dates[i]\n",
    "    t_1 = self.all_dates[i - 1] \n",
    "    dt = (t - t_1).days/252\n",
    "    r = self.Curve.get_Forward(t_1,t)\n",
    "    \n",
    "    S[:,t] = S[:,t-1] * np.exp((r - self.q - 0.5 * self.vol ** 2) * dt + self.vol * np.random.normal(size = (5, 10)) * np.sqrt(dt))"
   ]
  },
  {
   "cell_type": "code",
   "execution_count": 123,
   "metadata": {},
   "outputs": [
    {
     "data": {
      "text/plain": [
       "array([ 1.34272468,  1.02751667,  1.70041009,  1.17551205,  0.77280892,\n",
       "        0.61932527, -0.20591433, -1.11622472,  0.37320483,  1.70215167])"
      ]
     },
     "execution_count": 123,
     "metadata": {},
     "output_type": "execute_result"
    }
   ],
   "source": [
    "np.random.normal(size = 10)"
   ]
  }
 ],
 "metadata": {
  "kernelspec": {
   "display_name": "Python 3",
   "language": "python",
   "name": "python3"
  },
  "language_info": {
   "codemirror_mode": {
    "name": "ipython",
    "version": 3
   },
   "file_extension": ".py",
   "mimetype": "text/x-python",
   "name": "python",
   "nbconvert_exporter": "python",
   "pygments_lexer": "ipython3",
   "version": "3.7.3"
  }
 },
 "nbformat": 4,
 "nbformat_minor": 2
}
